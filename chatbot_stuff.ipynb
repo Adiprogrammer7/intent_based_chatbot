{
 "cells": [
  {
   "cell_type": "code",
   "execution_count": 1,
   "metadata": {},
   "outputs": [
    {
     "name": "stdout",
     "output_type": "stream",
     "text": [
      "WARNING:tensorflow:From c:\\users\\adi01\\appdata\\local\\programs\\python\\python37\\lib\\site-packages\\tensorflow\\python\\compat\\v2_compat.py:96: disable_resource_variables (from tensorflow.python.ops.variable_scope) is deprecated and will be removed in a future version.\n",
      "Instructions for updating:\n",
      "non-resource variables are not supported in the long term\n",
      "curses is not supported on this machine (please install/reinstall curses for an optimal experience)\n"
     ]
    }
   ],
   "source": [
    "import nltk\n",
    "from nltk.stem.lancaster import LancasterStemmer\n",
    "import numpy as np\n",
    "import tflearn\n",
    "import tensorflow as tf\n",
    "import random\n",
    "import json"
   ]
  },
  {
   "cell_type": "code",
   "execution_count": 12,
   "metadata": {},
   "outputs": [],
   "source": [
    "stemmer = LancasterStemmer() #stemmer to get stem of a word. ex. 'say' would be stem word of 'saying'."
   ]
  },
  {
   "cell_type": "code",
   "execution_count": 13,
   "metadata": {},
   "outputs": [],
   "source": [
    "# gives stemmed, tokenized words list from sentence pattern without words in ignore_words list\n",
    "def clean_pattern(pattern, ignore_words):\n",
    "    stemmed_pattern = []\n",
    "    wrds = nltk.word_tokenize(pattern)\n",
    "    for w in wrds:\n",
    "        if w not in ignore_words:\n",
    "            stemmed_pattern.append(stemmer.stem(w.lower()))\n",
    "    return stemmed_pattern"
   ]
  },
  {
   "cell_type": "code",
   "execution_count": 14,
   "metadata": {},
   "outputs": [
    {
     "name": "stdout",
     "output_type": "stream",
     "text": [
      "{'intents': [{'tag': 'greeting', 'patterns': ['Hi', 'How are you', 'Is anyone there?', 'Hello', 'Good day', 'Whats up'], 'responses': ['Hello!', 'Good to see you again!', 'Hi there, how can I help?'], 'context_set': ''}, {'tag': 'goodbye', 'patterns': ['cya', 'See you later', 'Goodbye', 'I am Leaving', 'Have a Good day'], 'responses': ['Sad to see you go :(', 'Talk to you later', 'Goodbye!'], 'context_set': ''}, {'tag': 'age', 'patterns': ['how old', 'how old is tim', 'what is your age', 'how old are you', 'age?'], 'responses': ['I am 18 years old!', '18 years young!'], 'context_set': ''}, {'tag': 'name', 'patterns': ['what is your name', 'what should I call you', 'whats your name?'], 'responses': ['You can call me Tim.', \"I'm Tim!\", \"I'm Tim aka Tech With Tim.\"], 'context_set': ''}, {'tag': 'shop', 'patterns': ['Id like to buy something', 'whats on the menu', 'what do you reccommend?', 'could i get something to eat'], 'responses': ['We sell chocolate chip cookies for $2!', 'Cookies are on the menu!'], 'context_set': ''}, {'tag': 'hours', 'patterns': ['when are you guys open', 'what are your hours', 'hours of operation'], 'responses': ['We are open 7am-4pm Monday-Friday!'], 'context_set': ''}]}\n"
     ]
    }
   ],
   "source": [
    "with open('intents.json') as file:\n",
    "    data = json.load(file)\n",
    "print(data)"
   ]
  },
  {
   "cell_type": "markdown",
   "metadata": {},
   "source": [
    "#### Training model stuff"
   ]
  },
  {
   "cell_type": "code",
   "execution_count": 17,
   "metadata": {},
   "outputs": [],
   "source": [
    "# Trying to load dict of saved variables\n",
    "try:  \n",
    "    with open('data.pickle', 'rb') as file:\n",
    "        stemmed_words, tags, ignore_words, X, y = pickle.load(file) \n",
    "        \n",
    "except:\n",
    "    # Some cleaning\n",
    "    stemmed_words = []\n",
    "    tags = []\n",
    "    ignore_words = ['!', '?', '.']\n",
    "    corpus = []\n",
    "\n",
    "    for intent in data['intents']:\n",
    "        for pattern in intent['patterns']:\n",
    "            stemmed_pattern = clean_pattern(pattern, ignore_words)\n",
    "            stemmed_words.extend(stemmed_pattern)\n",
    "            corpus.append((stemmed_pattern, intent['tag']))\n",
    "        if intent['tag'] not in tags:\n",
    "            tags.append(intent['tag'])\n",
    "\n",
    "    # remove duplicates and sort\n",
    "    stemmed_words = sorted(list(set(stemmed_words)))\n",
    "    tags = sorted(list(set(tags)))\n",
    "\n",
    "    print(stemmed_words)\n",
    "    print(tags)\n",
    "    print(corpus)\n",
    "\n",
    "    # Creating numeric features out of cleaned data\n",
    "    X = []\n",
    "    y = []\n",
    "    for item in corpus:\n",
    "        bag = [] #array of 1 and 0. 1 if stemmed word is present stemmed pattern\n",
    "        stemmed_pattern = item[0]\n",
    "        for w in stemmed_words:\n",
    "            if w in stemmed_pattern:\n",
    "                bag.append(1)\n",
    "            else:\n",
    "                bag.append(0)\n",
    "\n",
    "        tags_row = [] #array of 1 and 0. 1 for current tag and for everything else 0.\n",
    "        current_tag = item[1]\n",
    "        for tag in tags:\n",
    "            if tag == current_tag:\n",
    "                tags_row.append(1)\n",
    "            else:\n",
    "                tags_row.append(0)\n",
    "\n",
    "        #for each item in corpus, X will be array indicating stemmed words and y array indicating tags\n",
    "        X.append(bag)\n",
    "        y.append(tags_row) \n",
    "\n",
    "    X = np.array(X)\n",
    "    y = np.array(y)\n",
    "    print(X)\n",
    "    print(y)\n",
    "\n",
    "# saving some variables in pickle for future reference\n",
    "import pickle\n",
    "with open('data.pickle', 'wb') as file:\n",
    "    pickle.dump((stemmed_words, tags, ignore_words, X, y), file)\n",
    "\n",
    "# #-------------------------------------------------------------------------------------\n",
    "# # Some cleaning\n",
    "# stemmed_words = []\n",
    "# tags = []\n",
    "# ignore_words = ['!', '?', '.']\n",
    "# corpus = []\n",
    "\n",
    "# for intent in data['intents']:\n",
    "#     for pattern in intent['patterns']:\n",
    "#         stemmed_pattern = clean_pattern(pattern, ignore_words)\n",
    "#         stemmed_words.extend(stemmed_pattern)\n",
    "#         corpus.append((stemmed_pattern, intent['tag']))\n",
    "#     if intent['tag'] not in tags:\n",
    "#         tags.append(intent['tag'])\n",
    "\n",
    "# # remove duplicates and sort\n",
    "# stemmed_words = sorted(list(set(stemmed_words)))\n",
    "# tags = sorted(list(set(tags)))\n",
    "\n",
    "# print(stemmed_words)\n",
    "# print(tags)\n",
    "# print(corpus)\n",
    "\n",
    "# # Creating numeric features out of cleaned data\n",
    "# X = []\n",
    "# y = []\n",
    "# for item in corpus:\n",
    "#     bag = [] #array of 1 and 0. 1 if stemmed word is present stemmed pattern\n",
    "#     stemmed_pattern = item[0]\n",
    "#     for w in stemmed_words:\n",
    "#         if w in stemmed_pattern:\n",
    "#             bag.append(1)\n",
    "#         else:\n",
    "#             bag.append(0)\n",
    "\n",
    "#     tags_row = [] #array of 1 and 0. 1 for current tag and for everything else 0.\n",
    "#     current_tag = item[1]\n",
    "#     for tag in tags:\n",
    "#         if tag == current_tag:\n",
    "#             tags_row.append(1)\n",
    "#         else:\n",
    "#             tags_row.append(0)\n",
    "\n",
    "#     #for each item in corpus, X will be array indicating stemmed words and y array indicating tags\n",
    "#     X.append(bag)\n",
    "#     y.append(tags_row) \n",
    "\n",
    "# X = np.array(X)\n",
    "# y = np.array(y)\n",
    "# print(X)\n",
    "# print(y)\n",
    "\n",
    "# # saving some variables in pickle for future reference\n",
    "# import pickle\n",
    "# with open('data.pickle', 'wb') as file:\n",
    "#     pickle.dump((stemmed_words, tags, ignore_words, X, y), file)\n"
   ]
  },
  {
   "cell_type": "code",
   "execution_count": 18,
   "metadata": {},
   "outputs": [],
   "source": [
    "tf.compat.v1.reset_default_graph() #Clears the default graph stack and resets the global default graph\n",
    "\n",
    "# neural network's layers\n",
    "network = tflearn.input_data(shape= [None, len(X[0])]) #input layer\n",
    "network = tflearn.fully_connected(network, 8) #1st hidden layer\n",
    "network = tflearn.fully_connected(network, 8) #2nd hidden layer\n",
    "network = tflearn.fully_connected(network, len(y[0]), activation= 'softmax') #output layer\n",
    "network = tflearn.regression(network)\n",
    "\n",
    "model = tflearn.DNN(network, tensorboard_dir='tflearn_logs') #tensorboard_dir is path to store logs"
   ]
  },
  {
   "cell_type": "code",
   "execution_count": 21,
   "metadata": {},
   "outputs": [
    {
     "name": "stdout",
     "output_type": "stream",
     "text": [
      "INFO:tensorflow:Restoring parameters from F:\\ChatBot\\chatbot_model.tflearn\n"
     ]
    }
   ],
   "source": [
    "try:\n",
    "    model.load(\"chatbot_model.tflearn\")\n",
    "except:\n",
    "    model.fit(X, y, n_epoch=80, batch_size=8, show_metric=True, shuffle= True) #n_epoch:no. of times model will see same data\n",
    "    model.save(\"chatbot_model.tflearn\")\n",
    "\n",
    "# model.fit(X, y, n_epoch=500, batch_size=8, show_metric=True, shuffle= True) #n_epoch:no. of times model will see same data\n",
    "# model.save(\"chatbot_model.tflearn\")"
   ]
  },
  {
   "cell_type": "markdown",
   "metadata": {},
   "source": [
    "#### Chatbot stuff"
   ]
  },
  {
   "cell_type": "code",
   "execution_count": 20,
   "metadata": {},
   "outputs": [
    {
     "name": "stdout",
     "output_type": "stream",
     "text": [
      "INFO:tensorflow:Restoring parameters from F:\\ChatBot\\chatbot_model.tflearn\n"
     ]
    }
   ],
   "source": [
    "model.load(\"chatbot_model.tflearn\")"
   ]
  },
  {
   "cell_type": "code",
   "execution_count": null,
   "metadata": {},
   "outputs": [],
   "source": []
  }
 ],
 "metadata": {
  "kernelspec": {
   "display_name": "Python 3",
   "language": "python",
   "name": "python3"
  },
  "language_info": {
   "codemirror_mode": {
    "name": "ipython",
    "version": 3
   },
   "file_extension": ".py",
   "mimetype": "text/x-python",
   "name": "python",
   "nbconvert_exporter": "python",
   "pygments_lexer": "ipython3",
   "version": "3.7.4"
  }
 },
 "nbformat": 4,
 "nbformat_minor": 4
}
