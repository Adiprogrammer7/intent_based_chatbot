{
 "cells": [
  {
   "cell_type": "code",
   "execution_count": 1,
   "metadata": {},
   "outputs": [
    {
     "name": "stdout",
     "output_type": "stream",
     "text": [
      "WARNING:tensorflow:From c:\\users\\adi01\\appdata\\local\\programs\\python\\python37\\lib\\site-packages\\tensorflow\\python\\compat\\v2_compat.py:96: disable_resource_variables (from tensorflow.python.ops.variable_scope) is deprecated and will be removed in a future version.\n",
      "Instructions for updating:\n",
      "non-resource variables are not supported in the long term\n",
      "curses is not supported on this machine (please install/reinstall curses for an optimal experience)\n"
     ]
    }
   ],
   "source": [
    "import numpy as np\n",
    "import tflearn\n",
    "import tensorflow as tf\n",
    "import random\n",
    "import json\n",
    "import pickle\n",
    "from utils import clean_pattern, define_network"
   ]
  },
  {
   "cell_type": "code",
   "execution_count": 2,
   "metadata": {},
   "outputs": [
    {
     "name": "stdout",
     "output_type": "stream",
     "text": [
      "{'intents': [{'tag': 'greeting', 'patterns': ['Hi', 'How are you', 'Is anyone there?', 'Hello', 'hey'], 'responses': ['Hello! Good to see you!', 'Hi there, how can I help?', \"Hey genius, what's up?\"], 'context_set': ''}, {'tag': 'goodbye', 'patterns': ['cya', 'See you later', 'Goodbye', 'I am Leaving', 'Have a Good day', 'bye'], 'responses': ['See you soon pal...', 'Goodbye! Have a nice day.'], 'context_set': ''}, {'tag': 'booking', 'patterns': ['book room', 'do you have any rooms?', 'room reservation', 'I want to book room'], 'responses': ['Do you want a single room or multiple rooms?'], 'context_set': 'rooms_num'}, {'tag': 'one_room', 'patterns': ['single room', 'one room', '1 room'], 'responses': ['Okay, we got you covered for 1 room!'], 'context_filter': 'rooms_num'}, {'tag': 'multiple_rooms', 'patterns': ['many', 'multiple rooms', 'more than 1 rooms'], 'responses': ['Okay, please visit our website and book multiple rooms!'], 'context_filter': 'rooms_num'}, {'tag': 'name', 'patterns': [\"what's the name of the hotel?\", 'does hotel have a name?', 'what should I call that place?'], 'responses': [\"'Hotel Pacific': The paradise of wonderland...\", \"It's called as 'Hotel Pacific'!\"], 'context_set': ''}, {'tag': 'thanks', 'patterns': ['Thanks', 'Thank you', \"That's helpful\", 'Awesome, thanks', 'Thanks for helping me'], 'responses': ['Happy to help!', 'Love you 3000!', 'My pleasure!'], 'context_set': ''}, {'tag': 'address', 'patterns': ['address', 'Where is this place?', 'where to find hotel?', 'Give me location', 'what is the address?'], 'responses': [\"Our hotel is located at 'Malibu Point 10880, 90265' :)\"], 'context_set': ''}]}\n"
     ]
    }
   ],
   "source": [
    "with open('intents.json') as file:\n",
    "    data = json.load(file)\n",
    "print(data)"
   ]
  },
  {
   "cell_type": "code",
   "execution_count": 3,
   "metadata": {},
   "outputs": [
    {
     "name": "stdout",
     "output_type": "stream",
     "text": [
      "[\"'s\", ',', '1', 'a', 'address', 'am', 'any', 'anyon', 'ar', 'awesom', 'book', 'bye', 'cal', 'cya', 'day', 'do', 'doe', 'find', 'for', 'giv', 'good', 'goodby', 'hav', 'hello', 'help', 'hey', 'hi', 'hotel', 'how', 'i', 'is', 'lat', 'leav', 'loc', 'many', 'me', 'mor', 'multipl', 'nam', 'of', 'on', 'plac', 'reserv', 'room', 'see', 'should', 'singl', 'than', 'thank', 'that', 'the', 'ther', 'thi', 'to', 'want', 'what', 'wher', 'you']\n",
      "['address', 'booking', 'goodbye', 'greeting', 'multiple_rooms', 'name', 'one_room', 'thanks']\n",
      "[(['hi'], 'greeting'), (['how', 'ar', 'you'], 'greeting'), (['is', 'anyon', 'ther'], 'greeting'), (['hello'], 'greeting'), (['hey'], 'greeting'), (['cya'], 'goodbye'), (['see', 'you', 'lat'], 'goodbye'), (['goodby'], 'goodbye'), (['i', 'am', 'leav'], 'goodbye'), (['hav', 'a', 'good', 'day'], 'goodbye'), (['bye'], 'goodbye'), (['book', 'room'], 'booking'), (['do', 'you', 'hav', 'any', 'room'], 'booking'), (['room', 'reserv'], 'booking'), (['i', 'want', 'to', 'book', 'room'], 'booking'), (['singl', 'room'], 'one_room'), (['on', 'room'], 'one_room'), (['1', 'room'], 'one_room'), (['many'], 'multiple_rooms'), (['multipl', 'room'], 'multiple_rooms'), (['mor', 'than', '1', 'room'], 'multiple_rooms'), (['what', \"'s\", 'the', 'nam', 'of', 'the', 'hotel'], 'name'), (['doe', 'hotel', 'hav', 'a', 'nam'], 'name'), (['what', 'should', 'i', 'cal', 'that', 'plac'], 'name'), (['thank'], 'thanks'), (['thank', 'you'], 'thanks'), (['that', \"'s\", 'help'], 'thanks'), (['awesom', ',', 'thank'], 'thanks'), (['thank', 'for', 'help', 'me'], 'thanks'), (['address'], 'address'), (['wher', 'is', 'thi', 'plac'], 'address'), (['wher', 'to', 'find', 'hotel'], 'address'), (['giv', 'me', 'loc'], 'address'), (['what', 'is', 'the', 'address'], 'address')]\n"
     ]
    }
   ],
   "source": [
    "# Some cleaning of data in intents.json\n",
    "stemmed_words = []\n",
    "tags = []\n",
    "ignore_words = ['!', '?', '.']\n",
    "corpus = []\n",
    "\n",
    "for intent in data['intents']:\n",
    "    for pattern in intent['patterns']:\n",
    "        stemmed_pattern = clean_pattern(pattern, ignore_words)\n",
    "        stemmed_words.extend(stemmed_pattern)\n",
    "        corpus.append((stemmed_pattern, intent['tag']))\n",
    "    if intent['tag'] not in tags:\n",
    "        tags.append(intent['tag'])\n",
    "\n",
    "# remove duplicates and sort\n",
    "stemmed_words = sorted(list(set(stemmed_words)))\n",
    "tags = sorted(list(set(tags)))\n",
    "\n",
    "print(stemmed_words)\n",
    "print(tags)\n",
    "print(corpus)"
   ]
  },
  {
   "cell_type": "code",
   "execution_count": 4,
   "metadata": {},
   "outputs": [
    {
     "name": "stdout",
     "output_type": "stream",
     "text": [
      "[[0 0 0 ... 0 0 0]\n",
      " [0 0 0 ... 0 0 1]\n",
      " [0 0 0 ... 0 0 0]\n",
      " ...\n",
      " [0 0 0 ... 0 1 0]\n",
      " [0 0 0 ... 0 0 0]\n",
      " [0 0 0 ... 1 0 0]]\n",
      "[[0 0 0 1 0 0 0 0]\n",
      " [0 0 0 1 0 0 0 0]\n",
      " [0 0 0 1 0 0 0 0]\n",
      " [0 0 0 1 0 0 0 0]\n",
      " [0 0 0 1 0 0 0 0]\n",
      " [0 0 1 0 0 0 0 0]\n",
      " [0 0 1 0 0 0 0 0]\n",
      " [0 0 1 0 0 0 0 0]\n",
      " [0 0 1 0 0 0 0 0]\n",
      " [0 0 1 0 0 0 0 0]\n",
      " [0 0 1 0 0 0 0 0]\n",
      " [0 1 0 0 0 0 0 0]\n",
      " [0 1 0 0 0 0 0 0]\n",
      " [0 1 0 0 0 0 0 0]\n",
      " [0 1 0 0 0 0 0 0]\n",
      " [0 0 0 0 0 0 1 0]\n",
      " [0 0 0 0 0 0 1 0]\n",
      " [0 0 0 0 0 0 1 0]\n",
      " [0 0 0 0 1 0 0 0]\n",
      " [0 0 0 0 1 0 0 0]\n",
      " [0 0 0 0 1 0 0 0]\n",
      " [0 0 0 0 0 1 0 0]\n",
      " [0 0 0 0 0 1 0 0]\n",
      " [0 0 0 0 0 1 0 0]\n",
      " [0 0 0 0 0 0 0 1]\n",
      " [0 0 0 0 0 0 0 1]\n",
      " [0 0 0 0 0 0 0 1]\n",
      " [0 0 0 0 0 0 0 1]\n",
      " [0 0 0 0 0 0 0 1]\n",
      " [1 0 0 0 0 0 0 0]\n",
      " [1 0 0 0 0 0 0 0]\n",
      " [1 0 0 0 0 0 0 0]\n",
      " [1 0 0 0 0 0 0 0]\n",
      " [1 0 0 0 0 0 0 0]]\n"
     ]
    }
   ],
   "source": [
    "# Creating numeric features and labels out of cleaned data\n",
    "X = []\n",
    "y = []\n",
    "for item in corpus:\n",
    "    bag = [] #array of 1 and 0. 1 if stemmed word is present in stemmed pattern\n",
    "    stemmed_pattern = item[0]\n",
    "    for w in stemmed_words:\n",
    "        if w in stemmed_pattern:\n",
    "            bag.append(1)\n",
    "        else:\n",
    "            bag.append(0)\n",
    "\n",
    "    tags_row = [] #array of 1 and 0. 1 for current tag and for everything else 0.\n",
    "    current_tag = item[1]\n",
    "    for tag in tags:\n",
    "        if tag == current_tag:\n",
    "            tags_row.append(1)\n",
    "        else:\n",
    "            tags_row.append(0)\n",
    "\n",
    "    #for each item in corpus, X will be array indicating stemmed words and y array indicating tags\n",
    "    X.append(bag)\n",
    "    y.append(tags_row) \n",
    "\n",
    "X = np.array(X)\n",
    "y = np.array(y)\n",
    "print(X)\n",
    "print(y)\n",
    "\n",
    "# saving variables in pickle to be used by main.py\n",
    "with open('saved_variables.pickle', 'wb') as file:\n",
    "    pickle.dump((stemmed_words, tags, ignore_words, X, y), file)"
   ]
  },
  {
   "cell_type": "code",
   "execution_count": 5,
   "metadata": {},
   "outputs": [
    {
     "name": "stdout",
     "output_type": "stream",
     "text": [
      "Training Step: 5599  | total loss: \u001b[1m\u001b[32m0.02223\u001b[0m\u001b[0m | time: 0.008s\n",
      "| Adam | epoch: 1120 | loss: 0.02223 - acc: 0.9994 -- iter: 32/34\n",
      "Training Step: 5600  | total loss: \u001b[1m\u001b[32m0.02170\u001b[0m\u001b[0m | time: 0.010s\n",
      "| Adam | epoch: 1120 | loss: 0.02170 - acc: 0.9995 -- iter: 34/34\n",
      "--\n",
      "INFO:tensorflow:F:\\ChatBot\\chatbot_model.tflearn is not in all_model_checkpoint_paths. Manually adding it.\n"
     ]
    }
   ],
   "source": [
    "model = define_network(X, y)\n",
    "model.fit(X, y, n_epoch=1120, batch_size=8, show_metric=True) \n",
    "model.save(\"chatbot_model.tflearn\")"
   ]
  },
  {
   "cell_type": "code",
   "execution_count": null,
   "metadata": {},
   "outputs": [],
   "source": []
  }
 ],
 "metadata": {
  "kernelspec": {
   "display_name": "Python 3",
   "language": "python",
   "name": "python3"
  },
  "language_info": {
   "codemirror_mode": {
    "name": "ipython",
    "version": 3
   },
   "file_extension": ".py",
   "mimetype": "text/x-python",
   "name": "python",
   "nbconvert_exporter": "python",
   "pygments_lexer": "ipython3",
   "version": "3.7.4"
  }
 },
 "nbformat": 4,
 "nbformat_minor": 4
}
