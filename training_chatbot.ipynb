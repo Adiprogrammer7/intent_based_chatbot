{
 "cells": [
  {
   "cell_type": "code",
   "execution_count": 1,
   "metadata": {},
   "outputs": [
    {
     "name": "stdout",
     "output_type": "stream",
     "text": [
      "WARNING:tensorflow:From c:\\users\\adi01\\appdata\\local\\programs\\python\\python37\\lib\\site-packages\\tensorflow\\python\\compat\\v2_compat.py:96: disable_resource_variables (from tensorflow.python.ops.variable_scope) is deprecated and will be removed in a future version.\n",
      "Instructions for updating:\n",
      "non-resource variables are not supported in the long term\n",
      "curses is not supported on this machine (please install/reinstall curses for an optimal experience)\n"
     ]
    }
   ],
   "source": [
    "import numpy as np\n",
    "import tflearn\n",
    "import tensorflow as tf\n",
    "import random\n",
    "import json\n",
    "import pickle\n",
    "from utils import clean_pattern, define_network"
   ]
  },
  {
   "cell_type": "code",
   "execution_count": 2,
   "metadata": {},
   "outputs": [
    {
     "name": "stdout",
     "output_type": "stream",
     "text": [
      "{'intents': [{'tag': 'greeting', 'patterns': ['Hi', 'How are you', 'Is anyone there?', 'Hello', 'Good day', 'Whats up'], 'responses': ['Hello!', 'Good to see you again!', 'Hi there, how can I help?'], 'context_set': ''}, {'tag': 'goodbye', 'patterns': ['cya', 'See you later', 'Goodbye', 'I am Leaving', 'Have a Good day'], 'responses': ['Sad to see you go :(', 'Talk to you later', 'Goodbye!'], 'context_set': ''}, {'tag': 'info', 'patterns': ['how you born', 'what is used to create you', 'what technology used for you?'], 'responses': ['Using tensorflow and tflearn you can create a simple intent based chatbot!'], 'context_set': ''}, {'tag': 'name', 'patterns': ['what is your name', 'what should I call you', 'whats your name?', 'what are you?', 'what do you do?'], 'responses': [\"I'm a chatbot created by adiprogrammer\", 'A chatbot program, I talk to the people :)', \"I'm a lower level jarvis/intent based chatbot\"], 'context_set': ''}, {'tag': 'thanks', 'patterns': ['Thanks', 'Thank you', \"That's helpful\", 'Awesome, thanks', 'Thanks for helping me'], 'responses': ['Happy to help!', 'Any time!', 'My pleasure'], 'context': ['']}, {'tag': 'funny', 'patterns': [\"I'm bored\", 'Life is hard', \"I don't wanna live\", \"I'm sad\", \"I'm unhappy\"], 'responses': [\"I don't know how to tell a joke!\", \"Yeah life sucks sometimes but that's the life :)\"], 'context_set': ''}]}\n"
     ]
    }
   ],
   "source": [
    "with open('intents.json') as file:\n",
    "    data = json.load(file)\n",
    "print(data)"
   ]
  },
  {
   "cell_type": "code",
   "execution_count": 3,
   "metadata": {},
   "outputs": [
    {
     "name": "stdout",
     "output_type": "stream",
     "text": [
      "[\"'m\", \"'s\", ',', 'a', 'am', 'anyon', 'ar', 'awesom', 'bor', 'born', 'cal', 'cre', 'cya', 'day', 'do', 'for', 'good', 'goodby', 'hard', 'hav', 'hello', 'help', 'hi', 'how', 'i', 'is', 'lat', 'leav', 'lif', 'liv', 'me', \"n't\", 'na', 'nam', 'sad', 'see', 'should', 'technolog', 'thank', 'that', 'ther', 'to', 'unhappy', 'up', 'us', 'wan', 'what', 'yo', 'you']\n",
      "['funny', 'goodbye', 'greeting', 'info', 'name', 'thanks']\n",
      "[(['hi'], 'greeting'), (['how', 'ar', 'you'], 'greeting'), (['is', 'anyon', 'ther'], 'greeting'), (['hello'], 'greeting'), (['good', 'day'], 'greeting'), (['what', 'up'], 'greeting'), (['cya'], 'goodbye'), (['see', 'you', 'lat'], 'goodbye'), (['goodby'], 'goodbye'), (['i', 'am', 'leav'], 'goodbye'), (['hav', 'a', 'good', 'day'], 'goodbye'), (['how', 'you', 'born'], 'info'), (['what', 'is', 'us', 'to', 'cre', 'you'], 'info'), (['what', 'technolog', 'us', 'for', 'you'], 'info'), (['what', 'is', 'yo', 'nam'], 'name'), (['what', 'should', 'i', 'cal', 'you'], 'name'), (['what', 'yo', 'nam'], 'name'), (['what', 'ar', 'you'], 'name'), (['what', 'do', 'you', 'do'], 'name'), (['thank'], 'thanks'), (['thank', 'you'], 'thanks'), (['that', \"'s\", 'help'], 'thanks'), (['awesom', ',', 'thank'], 'thanks'), (['thank', 'for', 'help', 'me'], 'thanks'), (['i', \"'m\", 'bor'], 'funny'), (['lif', 'is', 'hard'], 'funny'), (['i', 'do', \"n't\", 'wan', 'na', 'liv'], 'funny'), (['i', \"'m\", 'sad'], 'funny'), (['i', \"'m\", 'unhappy'], 'funny')]\n"
     ]
    }
   ],
   "source": [
    "# Some cleaning of data in intents.json\n",
    "stemmed_words = []\n",
    "tags = []\n",
    "ignore_words = ['!', '?', '.']\n",
    "corpus = []\n",
    "\n",
    "for intent in data['intents']:\n",
    "    for pattern in intent['patterns']:\n",
    "        stemmed_pattern = clean_pattern(pattern, ignore_words)\n",
    "        stemmed_words.extend(stemmed_pattern)\n",
    "        corpus.append((stemmed_pattern, intent['tag']))\n",
    "    if intent['tag'] not in tags:\n",
    "        tags.append(intent['tag'])\n",
    "\n",
    "# remove duplicates and sort\n",
    "stemmed_words = sorted(list(set(stemmed_words)))\n",
    "tags = sorted(list(set(tags)))\n",
    "\n",
    "print(stemmed_words)\n",
    "print(tags)\n",
    "print(corpus)"
   ]
  },
  {
   "cell_type": "code",
   "execution_count": 4,
   "metadata": {},
   "outputs": [
    {
     "name": "stdout",
     "output_type": "stream",
     "text": [
      "[[0 0 0 ... 0 0 0]\n",
      " [0 0 0 ... 0 0 1]\n",
      " [0 0 0 ... 0 0 0]\n",
      " ...\n",
      " [0 0 0 ... 0 0 0]\n",
      " [1 0 0 ... 0 0 0]\n",
      " [1 0 0 ... 0 0 0]]\n",
      "[[0 0 1 0 0 0]\n",
      " [0 0 1 0 0 0]\n",
      " [0 0 1 0 0 0]\n",
      " [0 0 1 0 0 0]\n",
      " [0 0 1 0 0 0]\n",
      " [0 0 1 0 0 0]\n",
      " [0 1 0 0 0 0]\n",
      " [0 1 0 0 0 0]\n",
      " [0 1 0 0 0 0]\n",
      " [0 1 0 0 0 0]\n",
      " [0 1 0 0 0 0]\n",
      " [0 0 0 1 0 0]\n",
      " [0 0 0 1 0 0]\n",
      " [0 0 0 1 0 0]\n",
      " [0 0 0 0 1 0]\n",
      " [0 0 0 0 1 0]\n",
      " [0 0 0 0 1 0]\n",
      " [0 0 0 0 1 0]\n",
      " [0 0 0 0 1 0]\n",
      " [0 0 0 0 0 1]\n",
      " [0 0 0 0 0 1]\n",
      " [0 0 0 0 0 1]\n",
      " [0 0 0 0 0 1]\n",
      " [0 0 0 0 0 1]\n",
      " [1 0 0 0 0 0]\n",
      " [1 0 0 0 0 0]\n",
      " [1 0 0 0 0 0]\n",
      " [1 0 0 0 0 0]\n",
      " [1 0 0 0 0 0]]\n"
     ]
    }
   ],
   "source": [
    "# Creating numeric features and labels out of cleaned data\n",
    "X = []\n",
    "y = []\n",
    "for item in corpus:\n",
    "    bag = [] #array of 1 and 0. 1 if stemmed word is present stemmed pattern\n",
    "    stemmed_pattern = item[0]\n",
    "    for w in stemmed_words:\n",
    "        if w in stemmed_pattern:\n",
    "            bag.append(1)\n",
    "        else:\n",
    "            bag.append(0)\n",
    "\n",
    "    tags_row = [] #array of 1 and 0. 1 for current tag and for everything else 0.\n",
    "    current_tag = item[1]\n",
    "    for tag in tags:\n",
    "        if tag == current_tag:\n",
    "            tags_row.append(1)\n",
    "        else:\n",
    "            tags_row.append(0)\n",
    "\n",
    "    #for each item in corpus, X will be array indicating stemmed words and y array indicating tags\n",
    "    X.append(bag)\n",
    "    y.append(tags_row) \n",
    "\n",
    "X = np.array(X)\n",
    "y = np.array(y)\n",
    "print(X)\n",
    "print(y)\n",
    "\n",
    "# saving variables in pickle to be used by main.py\n",
    "with open('saved_variables.pickle', 'wb') as file:\n",
    "    pickle.dump((stemmed_words, tags, ignore_words, X, y), file)"
   ]
  },
  {
   "cell_type": "code",
   "execution_count": 5,
   "metadata": {},
   "outputs": [
    {
     "name": "stdout",
     "output_type": "stream",
     "text": [
      "Training Step: 2399  | total loss: \u001b[1m\u001b[32m0.14940\u001b[0m\u001b[0m | time: 0.024s\n",
      "| Adam | epoch: 600 | loss: 0.14940 - acc: 0.9876 -- iter: 24/29\n",
      "Training Step: 2400  | total loss: \u001b[1m\u001b[32m0.14020\u001b[0m\u001b[0m | time: 0.032s\n",
      "| Adam | epoch: 600 | loss: 0.14020 - acc: 0.9888 -- iter: 29/29\n",
      "--\n",
      "INFO:tensorflow:F:\\ChatBot\\chatbot_model.tflearn is not in all_model_checkpoint_paths. Manually adding it.\n"
     ]
    }
   ],
   "source": [
    "# our model stuff from main.py\n",
    "model = define_network(X, y)\n",
    "model.fit(X, y, n_epoch=600, batch_size=8, show_metric=True, shuffle= True) #n_epoch:no. of times model will see same data\n",
    "model.save(\"chatbot_model.tflearn\")"
   ]
  },
  {
   "cell_type": "code",
   "execution_count": null,
   "metadata": {},
   "outputs": [],
   "source": []
  }
 ],
 "metadata": {
  "kernelspec": {
   "display_name": "Python 3",
   "language": "python",
   "name": "python3"
  },
  "language_info": {
   "codemirror_mode": {
    "name": "ipython",
    "version": 3
   },
   "file_extension": ".py",
   "mimetype": "text/x-python",
   "name": "python",
   "nbconvert_exporter": "python",
   "pygments_lexer": "ipython3",
   "version": "3.7.4"
  }
 },
 "nbformat": 4,
 "nbformat_minor": 4
}
