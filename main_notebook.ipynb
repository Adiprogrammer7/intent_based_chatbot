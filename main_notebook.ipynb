{
 "cells": [
  {
   "cell_type": "code",
   "execution_count": 1,
   "metadata": {},
   "outputs": [
    {
     "name": "stdout",
     "output_type": "stream",
     "text": [
      "WARNING:tensorflow:From c:\\users\\adi01\\appdata\\local\\programs\\python\\python37\\lib\\site-packages\\tensorflow\\python\\compat\\v2_compat.py:96: disable_resource_variables (from tensorflow.python.ops.variable_scope) is deprecated and will be removed in a future version.\n",
      "Instructions for updating:\n",
      "non-resource variables are not supported in the long term\n",
      "curses is not supported on this machine (please install/reinstall curses for an optimal experience)\n"
     ]
    }
   ],
   "source": [
    "import nltk\n",
    "from nltk.stem.lancaster import LancasterStemmer\n",
    "import numpy as np\n",
    "import tflearn\n",
    "import tensorflow as tf\n",
    "from tensorflow.python.framework import ops\n",
    "import random\n",
    "import json"
   ]
  },
  {
   "cell_type": "code",
   "execution_count": 2,
   "metadata": {},
   "outputs": [],
   "source": [
    "stemmer = LancasterStemmer() #stemmer to get stem of a word. ex. 'say' would be stem word of 'saying'."
   ]
  },
  {
   "cell_type": "code",
   "execution_count": 3,
   "metadata": {},
   "outputs": [
    {
     "name": "stdout",
     "output_type": "stream",
     "text": [
      "<class 'dict'>\n",
      "{'intents': [{'tag': 'greeting', 'patterns': ['Hi', 'How are you', 'Is anyone there?', 'Hello', 'Good day', 'Whats up'], 'responses': ['Hello!', 'Good to see you again!', 'Hi there, how can I help?'], 'context_set': ''}, {'tag': 'goodbye', 'patterns': ['cya', 'See you later', 'Goodbye', 'I am Leaving', 'Have a Good day'], 'responses': ['Sad to see you go :(', 'Talk to you later', 'Goodbye!'], 'context_set': ''}, {'tag': 'age', 'patterns': ['how old', 'how old is tim', 'what is your age', 'how old are you', 'age?'], 'responses': ['I am 18 years old!', '18 years young!'], 'context_set': ''}, {'tag': 'name', 'patterns': ['what is your name', 'what should I call you', 'whats your name?'], 'responses': ['You can call me Tim.', \"I'm Tim!\", \"I'm Tim aka Tech With Tim.\"], 'context_set': ''}, {'tag': 'shop', 'patterns': ['Id like to buy something', 'whats on the menu', 'what do you reccommend?', 'could i get something to eat'], 'responses': ['We sell chocolate chip cookies for $2!', 'Cookies are on the menu!'], 'context_set': ''}, {'tag': 'hours', 'patterns': ['when are you guys open', 'what are your hours', 'hours of operation'], 'responses': ['We are open 7am-4pm Monday-Friday!'], 'context_set': ''}]}\n"
     ]
    }
   ],
   "source": [
    "with open('intents.json') as file:\n",
    "    data = json.load(file)\n",
    "\n",
    "print(type(data))\n",
    "print(data)"
   ]
  },
  {
   "cell_type": "code",
   "execution_count": 4,
   "metadata": {},
   "outputs": [
    {
     "name": "stdout",
     "output_type": "stream",
     "text": [
      "['a', 'ag', 'am', 'anyon', 'ar', 'buy', 'cal', 'could', 'cya', 'day', 'do', 'eat', 'get', 'good', 'goodby', 'guy', 'hav', 'hello', 'hi', 'hour', 'how', 'i', 'id', 'is', 'lat', 'leav', 'lik', 'menu', 'nam', 'of', 'old', 'on', 'op', 'reccommend', 'see', 'should', 'someth', 'the', 'ther', 'tim', 'to', 'up', 'what', 'when', 'yo', 'you']\n",
      "['age', 'goodbye', 'greeting', 'hours', 'name', 'shop']\n",
      "[(['hi'], 'greeting'), (['how', 'ar', 'you'], 'greeting'), (['is', 'anyon', 'ther'], 'greeting'), (['hello'], 'greeting'), (['good', 'day'], 'greeting'), (['what', 'up'], 'greeting'), (['cya'], 'goodbye'), (['see', 'you', 'lat'], 'goodbye'), (['goodby'], 'goodbye'), (['i', 'am', 'leav'], 'goodbye'), (['hav', 'a', 'good', 'day'], 'goodbye'), (['how', 'old'], 'age'), (['how', 'old', 'is', 'tim'], 'age'), (['what', 'is', 'yo', 'ag'], 'age'), (['how', 'old', 'ar', 'you'], 'age'), (['ag'], 'age'), (['what', 'is', 'yo', 'nam'], 'name'), (['what', 'should', 'i', 'cal', 'you'], 'name'), (['what', 'yo', 'nam'], 'name'), (['id', 'lik', 'to', 'buy', 'someth'], 'shop'), (['what', 'on', 'the', 'menu'], 'shop'), (['what', 'do', 'you', 'reccommend'], 'shop'), (['could', 'i', 'get', 'someth', 'to', 'eat'], 'shop'), (['when', 'ar', 'you', 'guy', 'op'], 'hours'), (['what', 'ar', 'yo', 'hour'], 'hours'), (['hour', 'of', 'op'], 'hours')]\n"
     ]
    }
   ],
   "source": [
    "# gives stemmed, tokenized words list from sentence pattern without words in ignore_words list\n",
    "def clean_pattern(pattern, ignore_words):\n",
    "    stemmed_pattern = []\n",
    "    wrds = nltk.word_tokenize(pattern)\n",
    "    for w in wrds:\n",
    "        if w not in ignore_words:\n",
    "            stemmed_pattern.append(stemmer.stem(w.lower()))\n",
    "    return stemmed_pattern\n",
    "\n",
    "stemmed_words = []\n",
    "tags = []\n",
    "ignore_words = ['!', '?', '.']\n",
    "corpus = []\n",
    "\n",
    "for intent in data['intents']:\n",
    "    for pattern in intent['patterns']:\n",
    "        stemmed_pattern = clean_pattern(pattern, ignore_words)\n",
    "        stemmed_words.extend(stemmed_pattern)\n",
    "        corpus.append((stemmed_pattern, intent['tag']))\n",
    "    if intent['tag'] not in tags:\n",
    "        tags.append(intent['tag'])\n",
    "        \n",
    "# remove duplicates and sort\n",
    "stemmed_words = sorted(list(set(stemmed_words)))\n",
    "tags = sorted(list(set(tags)))\n",
    "\n",
    "print(stemmed_words)\n",
    "print(tags)\n",
    "print(corpus)"
   ]
  },
  {
   "cell_type": "code",
   "execution_count": 5,
   "metadata": {},
   "outputs": [
    {
     "name": "stdout",
     "output_type": "stream",
     "text": [
      "[[0 0 0 ... 0 0 0]\n",
      " [0 0 0 ... 0 0 1]\n",
      " [0 0 0 ... 0 0 0]\n",
      " ...\n",
      " [0 0 0 ... 1 0 1]\n",
      " [0 0 0 ... 0 1 0]\n",
      " [0 0 0 ... 0 0 0]]\n",
      "[[0 0 1 0 0 0]\n",
      " [0 0 1 0 0 0]\n",
      " [0 0 1 0 0 0]\n",
      " [0 0 1 0 0 0]\n",
      " [0 0 1 0 0 0]\n",
      " [0 0 1 0 0 0]\n",
      " [0 1 0 0 0 0]\n",
      " [0 1 0 0 0 0]\n",
      " [0 1 0 0 0 0]\n",
      " [0 1 0 0 0 0]\n",
      " [0 1 0 0 0 0]\n",
      " [1 0 0 0 0 0]\n",
      " [1 0 0 0 0 0]\n",
      " [1 0 0 0 0 0]\n",
      " [1 0 0 0 0 0]\n",
      " [1 0 0 0 0 0]\n",
      " [0 0 0 0 1 0]\n",
      " [0 0 0 0 1 0]\n",
      " [0 0 0 0 1 0]\n",
      " [0 0 0 0 0 1]\n",
      " [0 0 0 0 0 1]\n",
      " [0 0 0 0 0 1]\n",
      " [0 0 0 0 0 1]\n",
      " [0 0 0 1 0 0]\n",
      " [0 0 0 1 0 0]\n",
      " [0 0 0 1 0 0]]\n"
     ]
    }
   ],
   "source": [
    "X = []\n",
    "y = []\n",
    "\n",
    "for item in corpus:\n",
    "    bag = [] #array of 1 and 0. 1 if stemmed word is present stemmed pattern\n",
    "    stemmed_pattern = item[0]\n",
    "    for w in stemmed_words:\n",
    "        if w in stemmed_pattern:\n",
    "            bag.append(1)\n",
    "        else:\n",
    "            bag.append(0)\n",
    "            \n",
    "    tags_row = [] #array of 1 and 0. 1 for current tag and for everything else 0.\n",
    "    current_tag = item[1]\n",
    "    for tag in tags:\n",
    "        if tag == current_tag:\n",
    "            tags_row.append(1)\n",
    "        else:\n",
    "            tags_row.append(0)\n",
    "    \n",
    "    #for each item in corpus, X will be array indicating stemmed words and y array indicating tags\n",
    "    X.append(bag)\n",
    "    y.append(tags_row) \n",
    "\n",
    "X = np.array(X)\n",
    "y = np.array(y)\n",
    "print(X)\n",
    "print(y)"
   ]
  },
  {
   "cell_type": "code",
   "execution_count": 6,
   "metadata": {},
   "outputs": [
    {
     "name": "stdout",
     "output_type": "stream",
     "text": [
      "WARNING:tensorflow:From c:\\users\\adi01\\appdata\\local\\programs\\python\\python37\\lib\\site-packages\\tflearn\\initializations.py:165: calling TruncatedNormal.__init__ (from tensorflow.python.ops.init_ops) with dtype is deprecated and will be removed in a future version.\n",
      "Instructions for updating:\n",
      "Call initializer instance with the dtype argument instead of passing it to the constructor\n"
     ]
    }
   ],
   "source": [
    "ops.reset_default_graph() #reset graph data\n",
    "\n",
    "# neural network's layers\n",
    "network = tflearn.input_data(shape= [None, len(X[0])]) #input layer\n",
    "network = tflearn.fully_connected(network, 8) #1st hidden layer\n",
    "network = tflearn.fully_connected(network, 8) #2nd hidden layer\n",
    "network = tflearn.fully_connected(network, len(y[0]), activation= 'softmax') #output layer\n",
    "network = tflearn.regression(network)"
   ]
  },
  {
   "cell_type": "code",
   "execution_count": 7,
   "metadata": {},
   "outputs": [
    {
     "name": "stdout",
     "output_type": "stream",
     "text": [
      "Training Step: 3999  | total loss: \u001b[1m\u001b[32m0.08520\u001b[0m\u001b[0m | time: 0.024s\n",
      "| Adam | epoch: 1000 | loss: 0.08520 - acc: 0.9947 -- iter: 24/26\n",
      "Training Step: 4000  | total loss: \u001b[1m\u001b[32m0.07763\u001b[0m\u001b[0m | time: 0.032s\n",
      "| Adam | epoch: 1000 | loss: 0.07763 - acc: 0.9952 -- iter: 26/26\n",
      "--\n",
      "INFO:tensorflow:F:\\ChatBot\\chatbot_model.tflearn is not in all_model_checkpoint_paths. Manually adding it.\n"
     ]
    }
   ],
   "source": [
    "# fitting model\n",
    "model = tflearn.DNN(network, tensorboard_dir='tflearn_logs') #tensorboard_dir is path to store logs\n",
    "model.fit(X, y, n_epoch=1000, batch_size=8, show_metric=True, shuffle= True) #n_epoch:no. of times model will see same data\n",
    "model.save('chatbot_model.tflearn')"
   ]
  },
  {
   "cell_type": "code",
   "execution_count": null,
   "metadata": {},
   "outputs": [],
   "source": []
  }
 ],
 "metadata": {
  "kernelspec": {
   "display_name": "Python 3",
   "language": "python",
   "name": "python3"
  },
  "language_info": {
   "codemirror_mode": {
    "name": "ipython",
    "version": 3
   },
   "file_extension": ".py",
   "mimetype": "text/x-python",
   "name": "python",
   "nbconvert_exporter": "python",
   "pygments_lexer": "ipython3",
   "version": "3.7.4"
  }
 },
 "nbformat": 4,
 "nbformat_minor": 4
}
