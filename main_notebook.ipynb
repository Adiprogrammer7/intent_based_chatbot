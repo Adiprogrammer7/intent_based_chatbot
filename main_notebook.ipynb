{
 "cells": [
  {
   "cell_type": "code",
   "execution_count": null,
   "metadata": {},
   "outputs": [],
   "source": [
    "import nltk\n",
    "from nltk.stem.lancaster import LancasterStemmer\n",
    "import numpy as np\n",
    "import tflearn\n",
    "import tensorflow as tf\n",
    "from tensorflow.python.framework import ops\n",
    "import random\n",
    "import json"
   ]
  },
  {
   "cell_type": "code",
   "execution_count": null,
   "metadata": {},
   "outputs": [],
   "source": [
    "stemmer = LancasterStemmer() #stemmer to get stem of a word. ex. 'say' would be stem word of 'saying'."
   ]
  },
  {
   "cell_type": "code",
   "execution_count": null,
   "metadata": {},
   "outputs": [],
   "source": [
    "with open('intents.json') as file:\n",
    "    data = json.load(file)\n",
    "\n",
    "print(type(data))\n",
    "print(data)"
   ]
  },
  {
   "cell_type": "code",
   "execution_count": null,
   "metadata": {},
   "outputs": [],
   "source": [
    "# gives stemmed, tokenized words list from sentence pattern without words in ignore_words list\n",
    "def clean_pattern(pattern, ignore_words):\n",
    "    stemmed_pattern = []\n",
    "    wrds = nltk.word_tokenize(pattern)\n",
    "    for w in wrds:\n",
    "        if w not in ignore_words:\n",
    "            stemmed_pattern.append(stemmer.stem(w.lower()))\n",
    "    return stemmed_pattern\n",
    "\n",
    "stemmed_words = []\n",
    "tags = []\n",
    "ignore_words = ['!', '?', '.']\n",
    "corpus = []\n",
    "\n",
    "for intent in data['intents']:\n",
    "    for pattern in intent['patterns']:\n",
    "        stemmed_pattern = clean_pattern(pattern, ignore_words)\n",
    "        stemmed_words.extend(stemmed_pattern)\n",
    "        corpus.append((stemmed_pattern, intent['tag']))\n",
    "    if intent['tag'] not in tags:\n",
    "        tags.append(intent['tag'])\n",
    "        \n",
    "# remove duplicates and sort\n",
    "stemmed_words = sorted(list(set(stemmed_words)))\n",
    "tags = sorted(list(set(tags)))\n",
    "\n",
    "print(stemmed_words)\n",
    "print(tags)\n",
    "print(corpus)"
   ]
  },
  {
   "cell_type": "code",
   "execution_count": null,
   "metadata": {},
   "outputs": [],
   "source": [
    "X = []\n",
    "y = []\n",
    "\n",
    "for item in corpus:\n",
    "    bag = [] #array of 1 and 0. 1 if stemmed word is present stemmed pattern\n",
    "    stemmed_pattern = item[0]\n",
    "    for w in stemmed_words:\n",
    "        if w in stemmed_pattern:\n",
    "            bag.append(1)\n",
    "        else:\n",
    "            bag.append(0)\n",
    "            \n",
    "    tags_row = [] #array of 1 and 0. 1 for current tag and for everything else 0.\n",
    "    current_tag = item[1]\n",
    "    for tag in tags:\n",
    "        if tag == current_tag:\n",
    "            tags_row.append(1)\n",
    "        else:\n",
    "            tags_row.append(0)\n",
    "    \n",
    "    #for each item in corpus, X will be array indicating stemmed words and y array indicating tags\n",
    "    X.append(bag)\n",
    "    y.append(tags_row) \n",
    "\n",
    "X = np.array(X)\n",
    "y = np.array(y)\n",
    "print(X)\n",
    "print(y)"
   ]
  },
  {
   "cell_type": "code",
   "execution_count": null,
   "metadata": {},
   "outputs": [],
   "source": [
    "ops.reset_default_graph() #reset graph data\n",
    "\n",
    "# neural network's layers\n",
    "network = tflearn.input_data(shape= [None, len(X[0])]) #input layer\n",
    "network = tflearn.fully_connected(network, 8) #1st hidden layer\n",
    "network = tflearn.fully_connected(network, 8) #2nd hidden layer\n",
    "network = tflearn.fully_connected(network, len(y[0]), activation= 'softmax') #output layer\n",
    "network = tflearn.regression(network)"
   ]
  },
  {
   "cell_type": "code",
   "execution_count": null,
   "metadata": {},
   "outputs": [],
   "source": [
    "# fitting model\n",
    "model = tflearn.DNN(network, tensorboard_dir='tflearn_logs') #tensorboard_dir is path to store logs\n",
    "model.fit(X, y, n_epoch=1000, batch_size=8, show_metric=True, shuffle= True) #n_epoch:no. of times model will see same data\n",
    "model.save('chatbot_model.tflearn')"
   ]
  },
  {
   "cell_type": "code",
   "execution_count": null,
   "metadata": {},
   "outputs": [],
   "source": []
  }
 ],
 "metadata": {
  "kernelspec": {
   "display_name": "Python 3",
   "language": "python",
   "name": "python3"
  },
  "language_info": {
   "codemirror_mode": {
    "name": "ipython",
    "version": 3
   },
   "file_extension": ".py",
   "mimetype": "text/x-python",
   "name": "python",
   "nbconvert_exporter": "python",
   "pygments_lexer": "ipython3",
   "version": "3.7.4"
  }
 },
 "nbformat": 4,
 "nbformat_minor": 4
}
